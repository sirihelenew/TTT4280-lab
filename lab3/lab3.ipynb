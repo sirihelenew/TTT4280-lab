{
 "cells": [
  {
   "cell_type": "markdown",
   "metadata": {},
   "source": [
    "## **Lab 3**\n",
    "*Gruppe slay*"
   ]
  },
  {
   "cell_type": "markdown",
   "metadata": {},
   "source": [
    "### Forberedelsesoppgaver "
   ]
  },
  {
   "cell_type": "markdown",
   "metadata": {},
   "source": [
    "**Målinger**"
   ]
  },
  {
   "cell_type": "code",
   "execution_count": 3,
   "metadata": {},
   "outputs": [
    {
     "name": "stdout",
     "output_type": "stream",
     "text": [
      "Puls med autokorrelasjon:  78.26086956521739\n",
      "Puls med FFT:  80.035400390625\n"
     ]
    }
   ],
   "source": [
    "import numpy as np\n",
    "import matplotlib.pyplot as plt\n",
    "from scipy import signal\n",
    "\n",
    "#hente fra fil\n",
    "with open('data/eggan1.txt', 'r') as f:\n",
    "#with open('data/eggan2.txt', 'r') as f:\n",
    "#with open('data/eggan25.txt', 'r') as f:\n",
    "#with open('data/eggan26.txt', 'r') as f:\n",
    "#with open('data/eggan28.txt', 'r') as f:\n",
    "    r = []\n",
    "    g = []\n",
    "    b = []\n",
    "    \n",
    "    lines = f.readlines()\n",
    "    for i in range(3, len(lines)):\n",
    "        line = lines[i].split(' ')\n",
    "        r.append(float((line[0]).strip()))\n",
    "        g.append(float((line[1]).strip()))\n",
    "        b.append(float((line[2]).strip()))\n",
    "\n",
    "g = signal.detrend(g)\n",
    "t = np.arange(0,10, 10/len(g))\n",
    "\n",
    "g_hann = np.hanning(len(g))*g\n",
    "\n",
    "n_pad = 2**15\n",
    "g_pad = np.pad(g_hann, (0, n_pad - len(g)), 'constant')\n",
    "    \n",
    "autocorr = np.correlate(g_pad, g_pad, mode='full')  \n",
    "lags = np.arange(-n_pad + 1, n_pad,1) \n",
    "\n",
    "fft = np.fft.fft(g_pad, n_pad)\n",
    "freq = np.fft.fftfreq(n_pad)\n",
    "    \n",
    "for i in range(-5, 5):\n",
    "    autocorr[n_pad + i] = 0\n",
    "    \n",
    "index = np.argmax(autocorr)\n",
    "puls = 30*60/lags[index]\n",
    "\n",
    "puls_fft = 30*60*freq[np.argmax(fft)]\n",
    "print(\"Puls med autokorrelasjon: \", abs(puls))\n",
    "print(\"Puls med FFT: \", abs(puls_fft))"
   ]
  },
  {
   "cell_type": "markdown",
   "metadata": {},
   "source": [
    "![Tabell resultater](tabell.png)"
   ]
  },
  {
   "cell_type": "markdown",
   "metadata": {},
   "source": [
    "## **Robusthetstester**\n",
    "As a matter of fact har begge to *iskalde fingre* at all times :) \n",
    "Ergo, har vi tatt 2947913802 x målinger med iskalde fingre, og dette gir resultater som enten indikerer at vi har *tatt kvelden*, eller har et *massivt hjerteinfarkt*:"
   ]
  },
  {
   "cell_type": "code",
   "execution_count": 10,
   "metadata": {},
   "outputs": [
    {
     "name": "stdout",
     "output_type": "stream",
     "text": [
      "Puls med autokorrelasjon:  360.0\n",
      "Puls med FFT:  13.677978515625\n"
     ]
    }
   ],
   "source": [
    "import numpy as np\n",
    "import matplotlib.pyplot as plt\n",
    "from scipy import signal\n",
    "from IPython.display import display, HTML\n",
    "\n",
    "#hente fra fil\n",
    "with open('outputny/vigiropp.txt', 'r') as f:\n",
    "    r = []\n",
    "    g = []\n",
    "    b = []\n",
    "    \n",
    "    lines = f.readlines()\n",
    "    for i in range(3, len(lines)):\n",
    "        line = lines[i].split(' ')\n",
    "        r.append(float((line[0]).strip()))\n",
    "        g.append(float((line[1]).strip()))\n",
    "        b.append(float((line[2]).strip()))\n",
    "\n",
    "g = signal.detrend(g)\n",
    "t = np.arange(0,10, 10/len(g))\n",
    "\n",
    "g_hann = np.hanning(len(g))*g\n",
    "\n",
    "n_pad = 2**15\n",
    "g_pad = np.pad(g_hann, (0, n_pad - len(g)), 'constant')\n",
    "    \n",
    "autocorr = np.correlate(g_pad, g_pad, mode='full')  \n",
    "lags = np.arange(-n_pad + 1, n_pad,1) \n",
    "\n",
    "fft = np.fft.fft(g_pad, n_pad)\n",
    "freq = np.fft.fftfreq(n_pad)\n",
    "    \n",
    "for i in range(-5, 5):\n",
    "    autocorr[n_pad + i] = 0\n",
    "    \n",
    "index = np.argmax(autocorr)\n",
    "puls = 30*60/lags[index]\n",
    "\n",
    "puls_fft = 30*60*freq[np.argmax(fft)]\n",
    "print(\"Puls med autokorrelasjon: \", abs(puls))\n",
    "print(\"Puls med FFT: \", abs(puls_fft))\n",
    "# display(HTML('<span style=\"color: red;\">Ring 113</span>'))"
   ]
  },
  {
   "cell_type": "code",
   "execution_count": 12,
   "metadata": {},
   "outputs": [
    {
     "data": {
      "text/html": [
       "<span style=\"color: red; font-size: 40px;\">Ring 113</span>"
      ],
      "text/plain": [
       "<IPython.core.display.HTML object>"
      ]
     },
     "metadata": {},
     "output_type": "display_data"
    }
   ],
   "source": [
    "from IPython.display import display, HTML\n",
    "\n",
    "display(HTML('<span style=\"color: red; font-size: 40px;\">Ring 113</span>'))"
   ]
  },
  {
   "cell_type": "markdown",
   "metadata": {},
   "source": [
    "**Med målt puls: 90, gir dette SNR og STD:**"
   ]
  }
 ],
 "metadata": {
  "kernelspec": {
   "display_name": "Python 3",
   "language": "python",
   "name": "python3"
  },
  "language_info": {
   "codemirror_mode": {
    "name": "ipython",
    "version": 3
   },
   "file_extension": ".py",
   "mimetype": "text/x-python",
   "name": "python",
   "nbconvert_exporter": "python",
   "pygments_lexer": "ipython3",
   "version": "3.9.6"
  }
 },
 "nbformat": 4,
 "nbformat_minor": 2
}
